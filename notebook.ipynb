{
 "cells": [
  {
   "cell_type": "code",
   "execution_count": 23,
   "metadata": {},
   "outputs": [],
   "source": [
    "import pandas as pd\n",
    "import matplotlib.pyplot as plt\n",
    "import numpy as np"
   ]
  },
  {
   "cell_type": "code",
   "execution_count": 39,
   "metadata": {},
   "outputs": [
    {
     "data": {
      "text/html": [
       "<div>\n",
       "<style scoped>\n",
       "    .dataframe tbody tr th:only-of-type {\n",
       "        vertical-align: middle;\n",
       "    }\n",
       "\n",
       "    .dataframe tbody tr th {\n",
       "        vertical-align: top;\n",
       "    }\n",
       "\n",
       "    .dataframe thead th {\n",
       "        text-align: right;\n",
       "    }\n",
       "</style>\n",
       "<table border=\"1\" class=\"dataframe\">\n",
       "  <thead>\n",
       "    <tr style=\"text-align: right;\">\n",
       "      <th></th>\n",
       "      <th>username</th>\n",
       "      <th>joining_year</th>\n",
       "      <th>repositories</th>\n",
       "      <th>last_year_contributions</th>\n",
       "      <th>achievements_num</th>\n",
       "      <th>stars</th>\n",
       "      <th>followers</th>\n",
       "      <th>followings</th>\n",
       "      <th>has_readme</th>\n",
       "      <th>works_for</th>\n",
       "      <th>status</th>\n",
       "      <th>location</th>\n",
       "      <th>language</th>\n",
       "      <th>gender_pronoun</th>\n",
       "    </tr>\n",
       "  </thead>\n",
       "  <tbody>\n",
       "    <tr>\n",
       "      <th>0</th>\n",
       "      <td>SumithSPrince</td>\n",
       "      <td>2021</td>\n",
       "      <td>1.0</td>\n",
       "      <td>2.0</td>\n",
       "      <td>0.0</td>\n",
       "      <td>0.0</td>\n",
       "      <td>0.0</td>\n",
       "      <td>1.0</td>\n",
       "      <td>False</td>\n",
       "      <td>NaN</td>\n",
       "      <td>NaN</td>\n",
       "      <td>Bangalore, India</td>\n",
       "      <td>Java</td>\n",
       "      <td>he/him</td>\n",
       "    </tr>\n",
       "    <tr>\n",
       "      <th>1</th>\n",
       "      <td>infysumanta</td>\n",
       "      <td>2018</td>\n",
       "      <td>445.0</td>\n",
       "      <td>623.0</td>\n",
       "      <td>5.0</td>\n",
       "      <td>87.0</td>\n",
       "      <td>9.0</td>\n",
       "      <td>38.0</td>\n",
       "      <td>True</td>\n",
       "      <td>NaN</td>\n",
       "      <td>Focusing</td>\n",
       "      <td>Kolkata, India</td>\n",
       "      <td>Java</td>\n",
       "      <td>NaN</td>\n",
       "    </tr>\n",
       "    <tr>\n",
       "      <th>2</th>\n",
       "      <td>codingwithkrish</td>\n",
       "      <td>2021</td>\n",
       "      <td>37.0</td>\n",
       "      <td>204.0</td>\n",
       "      <td>6.0</td>\n",
       "      <td>9.0</td>\n",
       "      <td>6.0</td>\n",
       "      <td>8.0</td>\n",
       "      <td>True</td>\n",
       "      <td>Synkrama</td>\n",
       "      <td>NaN</td>\n",
       "      <td>India</td>\n",
       "      <td>Java</td>\n",
       "      <td>NaN</td>\n",
       "    </tr>\n",
       "    <tr>\n",
       "      <th>3</th>\n",
       "      <td>anirbanbose401</td>\n",
       "      <td>2023</td>\n",
       "      <td>3.0</td>\n",
       "      <td>2.0</td>\n",
       "      <td>0.0</td>\n",
       "      <td>0.0</td>\n",
       "      <td>0.0</td>\n",
       "      <td>3.0</td>\n",
       "      <td>False</td>\n",
       "      <td>Institute of Technical Education and Research</td>\n",
       "      <td>NaN</td>\n",
       "      <td>India</td>\n",
       "      <td>Java</td>\n",
       "      <td>he/him</td>\n",
       "    </tr>\n",
       "    <tr>\n",
       "      <th>4</th>\n",
       "      <td>neilrehani101</td>\n",
       "      <td>2021</td>\n",
       "      <td>29.0</td>\n",
       "      <td>6.0</td>\n",
       "      <td>0.0</td>\n",
       "      <td>0.0</td>\n",
       "      <td>0.0</td>\n",
       "      <td>3.0</td>\n",
       "      <td>False</td>\n",
       "      <td>NaN</td>\n",
       "      <td>NaN</td>\n",
       "      <td>India</td>\n",
       "      <td>Python</td>\n",
       "      <td>he/him</td>\n",
       "    </tr>\n",
       "  </tbody>\n",
       "</table>\n",
       "</div>"
      ],
      "text/plain": [
       "          username joining_year  repositories  last_year_contributions  \\\n",
       "0    SumithSPrince         2021           1.0                      2.0   \n",
       "1      infysumanta         2018         445.0                    623.0   \n",
       "2  codingwithkrish         2021          37.0                    204.0   \n",
       "3   anirbanbose401         2023           3.0                      2.0   \n",
       "4    neilrehani101         2021          29.0                      6.0   \n",
       "\n",
       "   achievements_num  stars  followers  followings has_readme  \\\n",
       "0               0.0    0.0        0.0         1.0      False   \n",
       "1               5.0   87.0        9.0        38.0       True   \n",
       "2               6.0    9.0        6.0         8.0       True   \n",
       "3               0.0    0.0        0.0         3.0      False   \n",
       "4               0.0    0.0        0.0         3.0      False   \n",
       "\n",
       "                                       works_for    status          location  \\\n",
       "0                                            NaN       NaN  Bangalore, India   \n",
       "1                                            NaN  Focusing    Kolkata, India   \n",
       "2                                       Synkrama       NaN             India   \n",
       "3  Institute of Technical Education and Research       NaN             India   \n",
       "4                                            NaN       NaN             India   \n",
       "\n",
       "  language gender_pronoun  \n",
       "0     Java         he/him  \n",
       "1     Java            NaN  \n",
       "2     Java            NaN  \n",
       "3     Java         he/him  \n",
       "4   Python         he/him  "
      ]
     },
     "execution_count": 39,
     "metadata": {},
     "output_type": "execute_result"
    }
   ],
   "source": [
    "df = pd.read_csv('Github_Indian_Users_Deep_Data.csv')\n",
    "df.columns = df.columns.str.lower().str.replace(' ', '_')\n",
    "del df['name']\n",
    "df.head()"
   ]
  },
  {
   "cell_type": "markdown",
   "metadata": {},
   "source": [
    "Cleanup and EDA"
   ]
  },
  {
   "cell_type": "code",
   "execution_count": 48,
   "metadata": {},
   "outputs": [
    {
     "data": {
      "text/plain": [
       "username                   0\n",
       "joining_year               0\n",
       "repositories               0\n",
       "last_year_contributions    0\n",
       "achievements_num           0\n",
       "stars                      0\n",
       "followers                  0\n",
       "followings                 0\n",
       "has_readme                 0\n",
       "works_for                  0\n",
       "status                     0\n",
       "location                   0\n",
       "language                   0\n",
       "gender_pronoun             0\n",
       "dtype: int64"
      ]
     },
     "execution_count": 48,
     "metadata": {},
     "output_type": "execute_result"
    }
   ],
   "source": [
    "df.isnull().sum()"
   ]
  },
  {
   "cell_type": "code",
   "execution_count": 46,
   "metadata": {},
   "outputs": [
    {
     "data": {
      "text/plain": [
       "array(['he/him', nan, 'Gentleman/Wiseman', 'she/her', 'they/them',\n",
       "       'PhD (Mathematics)', 'Techie', 'The one', '?V', 'Shivam',\n",
       "       'bit/bits', 'Little Codr', 'ShaksZ', 'phenol', 'He/Him', 'Him',\n",
       "       'Just a Tech', 'Go/TypeScript/Powershell', 'He/Him/His',\n",
       "       'You can do it ?', 'Nayeem', 'SSL/SSO', 'Σ', 'Mr.', 'coder',\n",
       "       'bro/bhai', 'Batman/Bateman', 'if/else', 'he', 'Thar/kuri',\n",
       "       'bat/man', 'Mritunjay Kumar', 'roro', 'insaan', 'she/her/they',\n",
       "       'Pengwin/Penglose', 'MR', 'Arch BTW', 'Mr', 'Nanya',\n",
       "       'White Power Ranger', 'Attack Helicopter', 'Rocket/Raccoon',\n",
       "       'CodeholiC', 'Developer', 'He/Him • Programmer + Gamer',\n",
       "       'King/God', '~Hack3r_Oneness is Active on Internet'], dtype=object)"
      ]
     },
     "execution_count": 46,
     "metadata": {},
     "output_type": "execute_result"
    }
   ],
   "source": [
    "df['gender_pronoun'].unique()\n",
    "#df['joining_year'].unique()\n"
   ]
  },
  {
   "cell_type": "code",
   "execution_count": 47,
   "metadata": {},
   "outputs": [],
   "source": [
    "unknown_for_na_columns = ['username', 'works_for', 'status', 'location', 'language']\n",
    "for col in unknown_for_na_columns:\n",
    "    df[col].fillna('unknown', inplace=True)\n",
    "zero_for_na_columns = ['repositories', 'last_year_contributions', 'achievements_num', 'stars', 'followers', 'followings']   \n",
    "for col in zero_for_na_columns:\n",
    "    df[col].fillna(0, inplace=True) \n",
    "df['joining_year'].fillna(2024, inplace=True)\n",
    "df['has_readme'].fillna('FALSE', inplace=True)\n",
    "df['gender_pronoun'].fillna('they/them', inplace=True)"
   ]
  },
  {
   "cell_type": "code",
   "execution_count": 49,
   "metadata": {},
   "outputs": [
    {
     "data": {
      "text/plain": [
       "(6072, 2025, 2025)"
      ]
     },
     "execution_count": 49,
     "metadata": {},
     "output_type": "execute_result"
    }
   ],
   "source": [
    "from sklearn.model_selection import train_test_split\n",
    "df_full_train, df_test = train_test_split(df, test_size=0.2, random_state=1)\n",
    "df_train, df_val = train_test_split(df_full_train, test_size=0.25, random_state=1)\n",
    "len(df_train), len(df_val), len(df_test)"
   ]
  },
  {
   "cell_type": "code",
   "execution_count": 50,
   "metadata": {},
   "outputs": [],
   "source": [
    "df_train = df_train.reset_index(drop=True)\n",
    "df_val = df_val.reset_index(drop=True)\n",
    "df_test = df_test.reset_index(drop=True)\n",
    "y_train = df_train.stars.values\n",
    "y_val = df_val.stars.values\n",
    "y_test = df_test.stars.values\n",
    "\n",
    "del df_train['stars']\n",
    "del df_val['stars']\n",
    "del df_test['stars']"
   ]
  },
  {
   "cell_type": "markdown",
   "metadata": {},
   "source": [
    "One-hot encoding"
   ]
  },
  {
   "cell_type": "code",
   "execution_count": 51,
   "metadata": {},
   "outputs": [],
   "source": [
    "from sklearn.feature_extraction import DictVectorizer\n",
    "\n",
    "dv = DictVectorizer(sparse=True)\n",
    "\n",
    "\n",
    "\n",
    "\n",
    "train_dict = df_train.to_dict(orient='records')\n",
    "X_train = dv.fit_transform(train_dict)\n",
    "\n",
    "val_dict = df_val.to_dict(orient='records')\n",
    "X_val = dv.transform(val_dict)"
   ]
  },
  {
   "cell_type": "markdown",
   "metadata": {},
   "source": [
    "Training linear regression"
   ]
  },
  {
   "cell_type": "code",
   "execution_count": 53,
   "metadata": {},
   "outputs": [
    {
     "data": {
      "text/plain": [
       "8.02891593857826"
      ]
     },
     "execution_count": 53,
     "metadata": {},
     "output_type": "execute_result"
    }
   ],
   "source": [
    "from sklearn.linear_model import LinearRegression\n",
    "from sklearn.metrics import mean_squared_error\n",
    "lr = LinearRegression()\n",
    "lr.fit(X_train, y_train)\n",
    "\n",
    "y_pred = lr.predict(X_train)\n",
    "\n",
    "mean_squared_error(y_train, y_pred, squared=False)"
   ]
  }
 ],
 "metadata": {
  "kernelspec": {
   "display_name": "base",
   "language": "python",
   "name": "python3"
  },
  "language_info": {
   "codemirror_mode": {
    "name": "ipython",
    "version": 3
   },
   "file_extension": ".py",
   "mimetype": "text/x-python",
   "name": "python",
   "nbconvert_exporter": "python",
   "pygments_lexer": "ipython3",
   "version": "3.11.7"
  }
 },
 "nbformat": 4,
 "nbformat_minor": 2
}
