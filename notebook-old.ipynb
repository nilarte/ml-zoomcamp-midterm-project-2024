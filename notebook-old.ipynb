{
 "cells": [
  {
   "cell_type": "code",
   "execution_count": 159,
   "metadata": {},
   "outputs": [],
   "source": [
    "import pandas as pd\n",
    "import matplotlib.pyplot as plt\n",
    "import numpy as np"
   ]
  },
  {
   "cell_type": "code",
   "execution_count": 160,
   "metadata": {},
   "outputs": [
    {
     "data": {
      "text/plain": [
       "(10122, 15)"
      ]
     },
     "execution_count": 160,
     "metadata": {},
     "output_type": "execute_result"
    }
   ],
   "source": [
    "df = pd.read_csv('Github_Indian_Users_Deep_Data.csv')\n",
    "df.columns = df.columns.str.lower().str.replace(' ', '_')\n",
    "df.shape\n"
   ]
  },
  {
   "cell_type": "markdown",
   "metadata": {},
   "source": [
    "Stage: Cleanup and EDA"
   ]
  },
  {
   "cell_type": "code",
   "execution_count": 161,
   "metadata": {},
   "outputs": [
    {
     "data": {
      "text/plain": [
       "username                     39\n",
       "joining_year                 26\n",
       "repositories                 52\n",
       "last_year_contributions      52\n",
       "achievements_num             52\n",
       "stars                        52\n",
       "followers                    52\n",
       "followings                 2949\n",
       "has_readme                   52\n",
       "works_for                  6641\n",
       "status                     5902\n",
       "location                     52\n",
       "language                     52\n",
       "gender_pronoun             6980\n",
       "dtype: int64"
      ]
     },
     "execution_count": 161,
     "metadata": {},
     "output_type": "execute_result"
    }
   ],
   "source": [
    "del df['name'] # Name is redundant username is sufficient\n",
    "df.head()\n",
    "df.isnull().sum()"
   ]
  },
  {
   "cell_type": "markdown",
   "metadata": {},
   "source": [
    "Replace NaN values with appropriate values"
   ]
  },
  {
   "cell_type": "code",
   "execution_count": 162,
   "metadata": {},
   "outputs": [
    {
     "data": {
      "text/plain": [
       "array(['he/him', nan, 'Gentleman/Wiseman', 'she/her', 'they/them',\n",
       "       'PhD (Mathematics)', 'Techie', 'The one', '?V', 'Shivam',\n",
       "       'bit/bits', 'Little Codr', 'ShaksZ', 'phenol', 'He/Him', 'Him',\n",
       "       'Just a Tech', 'Go/TypeScript/Powershell', 'He/Him/His',\n",
       "       'You can do it ?', 'Nayeem', 'SSL/SSO', 'Σ', 'Mr.', 'coder',\n",
       "       'bro/bhai', 'Batman/Bateman', 'if/else', 'he', 'Thar/kuri',\n",
       "       'bat/man', 'Mritunjay Kumar', 'roro', 'insaan', 'she/her/they',\n",
       "       'Pengwin/Penglose', 'MR', 'Arch BTW', 'Mr', 'Nanya',\n",
       "       'White Power Ranger', 'Attack Helicopter', 'Rocket/Raccoon',\n",
       "       'CodeholiC', 'Developer', 'He/Him • Programmer + Gamer',\n",
       "       'King/God', '~Hack3r_Oneness is Active on Internet'], dtype=object)"
      ]
     },
     "execution_count": 162,
     "metadata": {},
     "output_type": "execute_result"
    }
   ],
   "source": [
    "df['gender_pronoun'].unique()\n",
    "#df['joining_year'].unique()\n"
   ]
  },
  {
   "cell_type": "code",
   "execution_count": 163,
   "metadata": {},
   "outputs": [
    {
     "data": {
      "text/plain": [
       "username                   0\n",
       "joining_year               0\n",
       "repositories               0\n",
       "last_year_contributions    0\n",
       "achievements_num           0\n",
       "stars                      0\n",
       "followers                  0\n",
       "followings                 0\n",
       "has_readme                 0\n",
       "works_for                  0\n",
       "status                     0\n",
       "location                   0\n",
       "language                   0\n",
       "gender_pronoun             0\n",
       "dtype: int64"
      ]
     },
     "execution_count": 163,
     "metadata": {},
     "output_type": "execute_result"
    }
   ],
   "source": [
    "unknown_for_na_columns = ['username', 'works_for', 'status', 'location', 'language']\n",
    "for col in unknown_for_na_columns:\n",
    "    df[col].fillna('unknown', inplace=True)\n",
    "zero_for_na_columns = ['repositories', 'last_year_contributions', 'achievements_num', 'stars', 'followers', 'followings']   \n",
    "for col in zero_for_na_columns:\n",
    "    df[col].fillna(0, inplace=True) \n",
    "df['joining_year'].fillna(2024, inplace=True)\n",
    "df['joining_year'] = df['joining_year'].apply(lambda x: 2024 if isinstance(x, str) else x)\n",
    "df['joining_year'] = df['joining_year'].replace(r'^\\s*$', 2024, regex=True)\n",
    "df['has_readme'].fillna('FALSE', inplace=True)\n",
    "df['gender_pronoun'].fillna('they/them', inplace=True)\n",
    "df.isnull().sum()\n"
   ]
  },
  {
   "cell_type": "code",
   "execution_count": 164,
   "metadata": {},
   "outputs": [
    {
     "name": "stdout",
     "output_type": "stream",
     "text": [
      "0    False\n",
      "1     True\n",
      "2     True\n",
      "3    False\n",
      "4    False\n",
      "Name: has_readme, dtype: object\n",
      "0    0\n",
      "1    1\n",
      "2    1\n",
      "3    0\n",
      "4    0\n",
      "Name: has_readme, dtype: int64\n"
     ]
    }
   ],
   "source": [
    "\n",
    "# If there are any other variations of True/False (e.g., 'true', 'false'), handle them as well:\n",
    "df['has_readme'] = df['has_readme'].replace('FALSE', 0)\n",
    "df['has_readme'] = df['has_readme'].replace('TRUE', 1)\n",
    "print(df['has_readme'].head())\n",
    "# Now, convert to integer\n",
    "df['has_readme'] = df['has_readme'].astype(int)\n",
    "\n",
    "# Check the result\n",
    "print(df['has_readme'].head())"
   ]
  },
  {
   "cell_type": "markdown",
   "metadata": {},
   "source": [
    "See Distribution"
   ]
  },
  {
   "cell_type": "code",
   "execution_count": 165,
   "metadata": {},
   "outputs": [
    {
     "name": "stdout",
     "output_type": "stream",
     "text": [
      "count    10122.000000\n",
      "mean        11.123592\n",
      "std        119.899554\n",
      "min          0.000000\n",
      "25%          0.000000\n",
      "50%          1.000000\n",
      "75%          6.000000\n",
      "max       8800.000000\n",
      "Name: followers, dtype: float64\n",
      "Count of rows where followers are 0 or 1: 5615\n"
     ]
    }
   ],
   "source": [
    "print(df['followers'].describe())\n",
    "count = df[(df['followers'] == 0) | (df['followers'] == 1)].shape[0]\n",
    "print(f\"Count of rows where followers are 0 or 1: {count}\")"
   ]
  },
  {
   "cell_type": "code",
   "execution_count": 166,
   "metadata": {},
   "outputs": [
    {
     "name": "stdout",
     "output_type": "stream",
     "text": [
      "count    10122.000000\n",
      "mean        20.844497\n",
      "std        102.675282\n",
      "min          0.000000\n",
      "25%          0.000000\n",
      "50%          2.000000\n",
      "75%         10.000000\n",
      "max       3400.000000\n",
      "Name: stars, dtype: float64\n",
      "Count of rows where stars are 0 or 1: 4967\n"
     ]
    }
   ],
   "source": [
    "print(df['stars'].describe())\n",
    "count = df[(df['stars'] == 0) | (df['stars'] == 1)].shape[0]\n",
    "print(f\"Count of rows where stars are 0 or 1: {count}\")"
   ]
  },
  {
   "cell_type": "code",
   "execution_count": 167,
   "metadata": {},
   "outputs": [
    {
     "data": {
      "image/png": "[encoded data removed]",
      "text/plain": [
       "<Figure size 1000x600 with 1 Axes>"
      ]
     },
     "metadata": {},
     "output_type": "display_data"
    }
   ],
   "source": [
    "plt.figure(figsize=(10, 6))\n",
    "plt.boxplot(df['stars'], vert=False)\n",
    "plt.title(\"Box Plot of GitHub Repository Stars\")\n",
    "plt.xlabel(\"GitHub Repo Stars\")\n",
    "plt.show()"
   ]
  },
  {
   "cell_type": "code",
   "execution_count": 168,
   "metadata": {},
   "outputs": [
    {
     "name": "stdout",
     "output_type": "stream",
     "text": [
      "Count of rows where stars are between 0 to 1000: 10102\n",
      "Count of rows where stars are between 1000 to 2000: 16\n",
      "Count of rows where stars are between 2000 to 3000: 6\n",
      "Count of rows where stars are between 3000 to 3500: 1\n"
     ]
    }
   ],
   "source": [
    "count = df[(df['stars'] >= 0) & (df['stars'] <= 1000)].shape[0]\n",
    "print(f\"Count of rows where stars are between 0 to 1000: {count}\")\n",
    "count = df[(df['stars'] >= 1000) & (df['stars'] <= 2000)].shape[0]\n",
    "print(f\"Count of rows where stars are between 1000 to 2000: {count}\")\n",
    "count = df[(df['stars'] >= 2000) & (df['stars'] <= 3000)].shape[0]\n",
    "print(f\"Count of rows where stars are between 2000 to 3000: {count}\")\n",
    "count = df[(df['stars'] >= 3000) & (df['stars'] <= 3500)].shape[0]\n",
    "print(f\"Count of rows where stars are between 3000 to 3500: {count}\")"
   ]
  },
  {
   "cell_type": "code",
   "execution_count": 169,
   "metadata": {},
   "outputs": [
    {
     "data": {
      "text/plain": [
       "(10102, 14)"
      ]
     },
     "execution_count": 169,
     "metadata": {},
     "output_type": "execute_result"
    }
   ],
   "source": [
    "# Remove outliers with very large values \n",
    "df = df[~((df['stars'] > 1000) & (df['stars'] <= 3500))].reset_index(drop=True)\n",
    "df.shape"
   ]
  },
  {
   "cell_type": "code",
   "execution_count": 170,
   "metadata": {},
   "outputs": [
    {
     "data": {
      "text/plain": [
       "<bound method NDFrame.head of              username  joining_year  repositories  last_year_contributions  \\\n",
       "0         infysumanta          2024         445.0                    623.0   \n",
       "1     codingwithkrish          2024          37.0                    204.0   \n",
       "2       EngageTrooper          2024          12.0                      0.0   \n",
       "3        yashjain0112          2024          25.0                      0.0   \n",
       "4             StarTwi          2024          11.0                      2.0   \n",
       "...               ...           ...           ...                      ...   \n",
       "5130        abdaahads          2024           9.0                      9.0   \n",
       "5131       code-arpit          2024          30.0                    711.0   \n",
       "5132  patel-rupin2000          2024          35.0                     33.0   \n",
       "5133       jha-hitesh          2024          17.0                      5.0   \n",
       "5134      therohitdas          2024          20.0                    278.0   \n",
       "\n",
       "      achievements_num  stars  followers  followings  has_readme  \\\n",
       "0                  5.0   87.0        9.0        38.0           1   \n",
       "1                  6.0    9.0        6.0         8.0           1   \n",
       "2                  0.0    5.0        0.0         2.0           1   \n",
       "3                  2.0   12.0       15.0        14.0           0   \n",
       "4                  1.0    4.0        4.0         4.0           1   \n",
       "...                ...    ...        ...         ...         ...   \n",
       "5130               4.0   10.0       21.0        16.0           0   \n",
       "5131               7.0    5.0        5.0         8.0           1   \n",
       "5132               2.0    6.0        8.0         7.0           1   \n",
       "5133               2.0   55.0        2.0         3.0           0   \n",
       "5134               7.0  290.0       22.0        38.0           0   \n",
       "\n",
       "                             works_for                           status  \\\n",
       "0                              unknown                         Focusing   \n",
       "1                             Synkrama                          unknown   \n",
       "2                  Mickeyfying_Studios                          unknown   \n",
       "3                              unknown                          unknown   \n",
       "4                              unknown            Pony should Pony Pony   \n",
       "...                                ...                              ...   \n",
       "5130                          @Infosys                         Learning   \n",
       "5131                    @WhizHack-Tech                          unknown   \n",
       "5132                           unknown                          unknown   \n",
       "5133  Fynd (Shopsense retails Pvt Ltd)               in a full time job   \n",
       "5134                    @booleanbridge  intermediate dev, plagued by ai   \n",
       "\n",
       "                         location    language gender_pronoun  \n",
       "0                  Kolkata, India        Java      they/them  \n",
       "1                           India        Java      they/them  \n",
       "2     Nainital,Uttarakhand, India      Python      they/them  \n",
       "3                           India        Java      they/them  \n",
       "4                    Mumbai,India        Java      they/them  \n",
       "...                           ...         ...            ...  \n",
       "5130                        India        Java      they/them  \n",
       "5131                  Delhi,India      Python         he/him  \n",
       "5132        Bharuch,Gujarat,India  JavaScript      they/them  \n",
       "5133                Mumbai, India      Python      they/them  \n",
       "5134             Uttarpara, India      Python         he/him  \n",
       "\n",
       "[5135 rows x 14 columns]>"
      ]
     },
     "execution_count": 170,
     "metadata": {},
     "output_type": "execute_result"
    }
   ],
   "source": [
    "# Remove values 0 and 1 for now which are greatly unbalancing data \n",
    "df = df[(df['stars'] > 1)].reset_index(drop=True)\n",
    "df.shape\n",
    "df.head"
   ]
  },
  {
   "cell_type": "code",
   "execution_count": 171,
   "metadata": {},
   "outputs": [],
   "source": [
    "# Define the characters to check for\n",
    "invalid_chars = [\"[\", \"]\", \"<\"]\n",
    "\n",
    "# Filter rows to keep only those without any of the invalid characters in any feature column\n",
    "df = df[~df.apply(lambda row: any(char in str(row[col]) for col in df.columns for char in invalid_chars), axis=1)]\n"
   ]
  },
  {
   "cell_type": "markdown",
   "metadata": {},
   "source": [
    "Feature importnace"
   ]
  },
  {
   "cell_type": "code",
   "execution_count": 172,
   "metadata": {},
   "outputs": [
    {
     "data": {
      "text/plain": [
       "Index(['username', 'joining_year', 'repositories', 'last_year_contributions',\n",
       "       'achievements_num', 'stars', 'followers', 'followings', 'has_readme',\n",
       "       'works_for', 'status', 'location', 'language', 'gender_pronoun'],\n",
       "      dtype='object')"
      ]
     },
     "execution_count": 172,
     "metadata": {},
     "output_type": "execute_result"
    }
   ],
   "source": [
    "df.columns\n",
    "\n"
   ]
  },
  {
   "cell_type": "code",
   "execution_count": 173,
   "metadata": {},
   "outputs": [
    {
     "data": {
      "text/plain": [
       "username          3.987734\n",
       "works_for         1.518930\n",
       "location          1.343264\n",
       "status            1.037394\n",
       "gender_pronoun    0.082300\n",
       "language          0.075657\n",
       "dtype: float64"
      ]
     },
     "execution_count": 173,
     "metadata": {},
     "output_type": "execute_result"
    }
   ],
   "source": [
    "\n",
    "from sklearn.metrics import mutual_info_score\n",
    "categorical = ['username', 'works_for', 'status',\t'location',\t'language',\t'gender_pronoun']\n",
    "numerical = ['has_readme', 'repositories', 'last_year_contributions',\t'achievements_num',\t'followers', 'followings']\t\n",
    "#mutual_info_score(df.has_readme, df.stars)\n",
    "def mutual_info_stars_score(series):\n",
    "    return mutual_info_score(series, df.stars)\n",
    "mi = df[categorical].apply(mutual_info_stars_score)\n",
    "mi.sort_values(ascending=False)"
   ]
  },
  {
   "cell_type": "code",
   "execution_count": 174,
   "metadata": {},
   "outputs": [
    {
     "data": {
      "text/plain": [
       "has_readme                 0.046432\n",
       "repositories               0.278178\n",
       "last_year_contributions    0.216872\n",
       "achievements_num           0.317428\n",
       "followers                  0.139723\n",
       "followings                 0.128480\n",
       "dtype: float64"
      ]
     },
     "execution_count": 174,
     "metadata": {},
     "output_type": "execute_result"
    }
   ],
   "source": [
    "df[numerical].corrwith(df.stars).abs()"
   ]
  },
  {
   "cell_type": "code",
   "execution_count": 175,
   "metadata": {},
   "outputs": [],
   "source": [
    "#joining_year = ['joining_year']\n",
    "#df[joining_year].corrwith(df.stars).abs()"
   ]
  },
  {
   "cell_type": "markdown",
   "metadata": {},
   "source": [
    "Stage: Model Training "
   ]
  },
  {
   "cell_type": "markdown",
   "metadata": {},
   "source": [
    "Split data into train validation and test"
   ]
  },
  {
   "cell_type": "code",
   "execution_count": 176,
   "metadata": {},
   "outputs": [
    {
     "data": {
      "text/plain": [
       "(3075, 1025, 1025)"
      ]
     },
     "execution_count": 176,
     "metadata": {},
     "output_type": "execute_result"
    }
   ],
   "source": [
    "from sklearn.model_selection import train_test_split\n",
    "df_full_train, df_test = train_test_split(df, test_size=0.2, random_state=1)\n",
    "df_train, df_val = train_test_split(df_full_train, test_size=0.25, random_state=1)\n",
    "len(df_train), len(df_val), len(df_test)"
   ]
  },
  {
   "cell_type": "code",
   "execution_count": 177,
   "metadata": {},
   "outputs": [],
   "source": [
    "df_train = df_train.reset_index(drop=True)\n",
    "df_val = df_val.reset_index(drop=True)\n",
    "df_test = df_test.reset_index(drop=True)\n",
    "y_train = df_train.stars.values\n",
    "y_val = df_val.stars.values\n",
    "y_test = df_test.stars.values\n",
    "\n",
    "del df_train['stars']\n",
    "del df_val['stars']\n",
    "del df_test['stars']"
   ]
  },
  {
   "cell_type": "markdown",
   "metadata": {},
   "source": [
    "One-hot encoding"
   ]
  },
  {
   "cell_type": "code",
   "execution_count": 178,
   "metadata": {},
   "outputs": [],
   "source": [
    "from sklearn.feature_extraction import DictVectorizer\n",
    "\n",
    "dv = DictVectorizer(sparse=True)\n",
    "\n",
    "\n",
    "\n",
    "\n",
    "train_dict = df_train[categorical + numerical].to_dict(orient='records')\n",
    "X_train = dv.fit_transform(train_dict)\n",
    "\n",
    "val_dict = df_val.to_dict(orient='records')\n",
    "X_val = dv.transform(val_dict)\n",
    "#dv.feature_names_"
   ]
  },
  {
   "cell_type": "markdown",
   "metadata": {},
   "source": [
    "Training linear regression"
   ]
  },
  {
   "cell_type": "code",
   "execution_count": 179,
   "metadata": {},
   "outputs": [
    {
     "data": {
      "text/plain": [
       "3.751039433041991"
      ]
     },
     "execution_count": 179,
     "metadata": {},
     "output_type": "execute_result"
    }
   ],
   "source": [
    "from sklearn.linear_model import LinearRegression\n",
    "from sklearn.metrics import mean_squared_error\n",
    "lr = LinearRegression()\n",
    "lr.fit(X_train, y_train)\n",
    "\n",
    "y_pred = lr.predict(X_train)\n",
    "\n",
    "mean_squared_error(y_train, y_pred, squared=False)"
   ]
  },
  {
   "cell_type": "code",
   "execution_count": 180,
   "metadata": {},
   "outputs": [],
   "source": [
    "def train(df_train, y_train):\n",
    "    dicts = df_train[categorical + numerical].to_dict(orient='records')\n",
    "\n",
    "    dv = DictVectorizer()\n",
    "    X_train = dv.fit_transform(dicts)\n",
    "\n",
    "    model = LinearRegression()\n",
    "    model.fit(X_train, y_train)\n",
    "    \n",
    "    return dv, model\n",
    "\n",
    "def predict(df, dv, model):\n",
    "    dicts = df[categorical + numerical].to_dict(orient='records')\n",
    "\n",
    "    X = dv.transform(dicts)\n",
    "    y_pred = model.predict(X)\n",
    "\n",
    "    return y_pred"
   ]
  },
  {
   "cell_type": "code",
   "execution_count": 181,
   "metadata": {},
   "outputs": [
    {
     "data": {
      "text/plain": [
       "70.44206399419326"
      ]
     },
     "execution_count": 181,
     "metadata": {},
     "output_type": "execute_result"
    }
   ],
   "source": [
    "dv, model = train(df_train, y_train)\n",
    "y_pred =  predict(df_val, dv, model)\n",
    "mean_squared_error(y_val, y_pred, squared=False)"
   ]
  },
  {
   "cell_type": "code",
   "execution_count": 182,
   "metadata": {},
   "outputs": [],
   "source": [
    "# from sklearn.model_selection import KFold\n",
    "# n_splits = [3, 5, 10, 15, 20, 100, 200, 250]\n",
    "# for n_split in n_splits: \n",
    "#     kfold = KFold(n_splits=n_split, shuffle=True, random_state=1)\n",
    "#     for train_idx, val_idx in kfold.split(df_full_train):\n",
    "#         df_train = df_full_train.iloc[train_idx]\n",
    "#         df_val = df_full_train.iloc[val_idx]\n",
    "\n",
    "#         y_train = df_train.stars.values\n",
    "#         y_val = df_val.stars.values\n",
    "\n",
    "#         dv, model = train(df_train, y_train)\n",
    "#         y_pred = predict(df_val, dv, model)\n",
    "\n",
    "#     print(mean_squared_error(y_val, y_pred, squared=False))\n",
    "    "
   ]
  },
  {
   "cell_type": "code",
   "execution_count": 183,
   "metadata": {},
   "outputs": [
    {
     "data": {
      "text/plain": [
       "count    5125.000000\n",
       "mean       33.856390\n",
       "std        78.191992\n",
       "min         2.000000\n",
       "25%         4.000000\n",
       "50%        10.000000\n",
       "75%        28.000000\n",
       "max      1000.000000\n",
       "Name: stars, dtype: float64"
      ]
     },
     "execution_count": 183,
     "metadata": {},
     "output_type": "execute_result"
    }
   ],
   "source": [
    "df['stars'].describe()"
   ]
  },
  {
   "cell_type": "markdown",
   "metadata": {},
   "source": [
    "Training random forest regressor\n"
   ]
  },
  {
   "cell_type": "code",
   "execution_count": 184,
   "metadata": {},
   "outputs": [
    {
     "data": {
      "text/plain": [
       "27.375"
      ]
     },
     "execution_count": 184,
     "metadata": {},
     "output_type": "execute_result"
    }
   ],
   "source": [
    "from sklearn.ensemble import RandomForestRegressor\n",
    "rf = RandomForestRegressor(n_estimators=10, random_state=1, n_jobs=-1)\n",
    "rf.fit(X_train, y_train)\n",
    "y_pred = rf.predict(X_train)\n",
    "mean_squared_error(y_train, y_pred, squared=False).round(3)"
   ]
  },
  {
   "cell_type": "code",
   "execution_count": 185,
   "metadata": {},
   "outputs": [],
   "source": [
    "# scores = []\n",
    "# for n in range(10, 201, 10):\n",
    "#     rf = RandomForestRegressor(n_estimators=n, random_state=1, n_jobs=-1)\n",
    "#     rf.fit(X_train, y_train)\n",
    "\n",
    "#     y_pred = rf.predict(X_val)\n",
    "#     rmse = mean_squared_error(y_val, y_pred, squared=False).round(3)\n",
    "    \n",
    "#     scores.append((n, rmse))"
   ]
  },
  {
   "cell_type": "code",
   "execution_count": 186,
   "metadata": {},
   "outputs": [],
   "source": [
    "# print(scores)"
   ]
  },
  {
   "cell_type": "code",
   "execution_count": 187,
   "metadata": {},
   "outputs": [
    {
     "name": "stdout",
     "output_type": "stream",
     "text": [
      "68.34585\n",
      "68.72695\n",
      "69.01266666666668\n",
      "69.64236249999999\n"
     ]
    }
   ],
   "source": [
    "scores = []\n",
    "for d in [10, 5, 3, 1]:    \n",
    "    for n in range(10, 201, 10):\n",
    "        rf = RandomForestRegressor(n_estimators=n, max_depth=d, random_state=1, n_jobs=-1)\n",
    "        rf.fit(X_train, y_train)\n",
    "\n",
    "        y_pred = rf.predict(X_val)\n",
    "        rmse = mean_squared_error(y_val, y_pred, squared=False).round(3)\n",
    "        \n",
    "        scores.append((n, rmse))\n",
    "        df_scores = pd.DataFrame(scores, columns=['n_estimators', 'rmse'])\n",
    "    print(df_scores['rmse'].mean())"
   ]
  },
  {
   "cell_type": "markdown",
   "metadata": {},
   "source": [
    "XGBoost"
   ]
  },
  {
   "cell_type": "code",
   "execution_count": 188,
   "metadata": {},
   "outputs": [
    {
     "name": "stdout",
     "output_type": "stream",
     "text": [
      "5567\n"
     ]
    }
   ],
   "source": [
    "import xgboost as xgb\n",
    "features = list(dv.get_feature_names_out())\n",
    "print(len(features))\n",
    "for feature in features:\n",
    "    if \"[\" in feature or \"]\" in feature or \"<\" in feature:\n",
    "        print(feature)\n",
    "dtrain = xgb.DMatrix(X_train, label=y_train, feature_names=features)\n",
    "dval = xgb.DMatrix(X_val, label=y_val, feature_names=features)"
   ]
  },
  {
   "cell_type": "code",
   "execution_count": 189,
   "metadata": {},
   "outputs": [],
   "source": [
    "xgb_params = {\n",
    "    'eta': 0.3,\n",
    "    'max_depth': 6,\n",
    "    'min_child_weight': 1,\n",
    "\n",
    "    'objective': 'reg:squarederror',\n",
    "    'nthread': 8,\n",
    "\n",
    "    'seed': 1,\n",
    "    'verbosity': 1,\n",
    "}\n",
    "\n",
    "model = xgb.train(xgb_params, dtrain, num_boost_round=10)"
   ]
  },
  {
   "cell_type": "code",
   "execution_count": 190,
   "metadata": {},
   "outputs": [
    {
     "data": {
      "text/plain": [
       "69.05"
      ]
     },
     "execution_count": 190,
     "metadata": {},
     "output_type": "execute_result"
    }
   ],
   "source": [
    "y_pred = model.predict(dval)\n",
    "mean_squared_error(y_val, y_pred, squared=False).round(3)"
   ]
  }
 ],
 "metadata": {
  "kernelspec": {
   "display_name": "base",
   "language": "python",
   "name": "python3"
  },
  "language_info": {
   "codemirror_mode": {
    "name": "ipython",
    "version": 3
   },
   "file_extension": ".py",
   "mimetype": "text/x-python",
   "name": "python",
   "nbconvert_exporter": "python",
   "pygments_lexer": "ipython3",
   "version": "3.11.7"
  }
 },
 "nbformat": 4,
 "nbformat_minor": 2
}
