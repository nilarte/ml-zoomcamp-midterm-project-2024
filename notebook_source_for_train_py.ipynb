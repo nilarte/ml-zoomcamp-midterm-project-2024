{
 "cells": [
  {
   "cell_type": "code",
   "execution_count": 57,
   "metadata": {},
   "outputs": [],
   "source": [
    "import pandas as pd\n",
    "import matplotlib.pyplot as plt\n",
    "import numpy as np\n",
    "from sklearn.model_selection import train_test_split\n",
    "from sklearn.feature_extraction import DictVectorizer\n",
    "from sklearn.preprocessing import StandardScaler\n",
    "from sklearn.ensemble import RandomForestClassifier\n",
    "from sklearn.metrics import roc_auc_score\n",
    "import pickle\n"
   ]
  },
  {
   "cell_type": "code",
   "execution_count": 58,
   "metadata": {},
   "outputs": [
    {
     "data": {
      "text/plain": [
       "(918, 12)"
      ]
     },
     "execution_count": 58,
     "metadata": {},
     "output_type": "execute_result"
    }
   ],
   "source": [
    "df = pd.read_csv('heart.csv')\n",
    "df.columns = df.columns.str.lower().str.replace(' ', '_')\n",
    "df.shape\n"
   ]
  },
  {
   "cell_type": "markdown",
   "metadata": {},
   "source": [
    "Stage: Model Training "
   ]
  },
  {
   "cell_type": "markdown",
   "metadata": {},
   "source": [
    "Split data into train validation and test"
   ]
  },
  {
   "cell_type": "code",
   "execution_count": 59,
   "metadata": {},
   "outputs": [
    {
     "data": {
      "text/plain": [
       "(550, 184, 184)"
      ]
     },
     "execution_count": 59,
     "metadata": {},
     "output_type": "execute_result"
    }
   ],
   "source": [
    "df_full_train, df_test = train_test_split(df, test_size=0.2, random_state=1)\n",
    "df_train, df_val = train_test_split(df_full_train, test_size=0.25, random_state=1)\n",
    "len(df_train), len(df_val), len(df_test)"
   ]
  },
  {
   "cell_type": "code",
   "execution_count": 60,
   "metadata": {},
   "outputs": [],
   "source": [
    "df_train = df_train.reset_index(drop=True)\n",
    "df_val = df_val.reset_index(drop=True)\n",
    "df_test = df_test.reset_index(drop=True)\n",
    "y_train = df_train.heartdisease.values\n",
    "y_val = df_val.heartdisease.values\n",
    "y_test = df_test.heartdisease.values\n",
    "\n",
    "del df_train['heartdisease']\n",
    "del df_val['heartdisease']\n",
    "del df_test['heartdisease']"
   ]
  },
  {
   "cell_type": "markdown",
   "metadata": {},
   "source": [
    "One-hot encoding"
   ]
  },
  {
   "cell_type": "code",
   "execution_count": 61,
   "metadata": {},
   "outputs": [],
   "source": [
    "#from imblearn.over_sampling import SMOTE  # If using SMOTE for class imbalance\n",
    "\n",
    "dv = DictVectorizer(sparse=False)\n",
    "\n",
    "\n",
    "\n",
    "\n",
    "#train_dict = df_train[categorical_col + numerical_col].to_dict(orient='records')\n",
    "train_dict = df_train.to_dict(orient='records')\n",
    "X_train = dv.fit_transform(train_dict)\n",
    "\n",
    "val_dict = df_val.to_dict(orient='records')\n",
    "X_val = dv.transform(val_dict)\n",
    "\n",
    "test_dict = df_test.to_dict(orient='records')\n",
    "X_test = dv.transform(test_dict)\n",
    "#dv.feature_names_\n",
    "\n",
    "# # Step 1: Scale the data\n",
    "# scaler = StandardScaler()\n",
    "# X_train_scaled = scaler.fit_transform(X_train)\n",
    "# X_val_scaled = scaler.transform(X_val)\n",
    "\n",
    "# # Step 2: Handle class imbalance\n",
    "# smote = SMOTE()\n",
    "# X_train_res, y_train_res = smote.fit_resample(X_train_scaled, y_train)"
   ]
  },
  {
   "cell_type": "code",
   "execution_count": 62,
   "metadata": {},
   "outputs": [
    {
     "name": "stdout",
     "output_type": "stream",
     "text": [
      "auc=0.9464373464373464\n",
      "the model is saved to rf.bin\n"
     ]
    }
   ],
   "source": [
    "output_file = f'rf.bin'\n",
    "max_depth = 10\n",
    "min_samples_leaf = 1\n",
    "df_full_train = df_full_train.reset_index(drop=True)\n",
    "y_full_train = df_full_train.heartdisease.values\n",
    "del df_full_train['heartdisease']\n",
    "dicts_full_train = df_full_train.to_dict(orient='records')\n",
    "\n",
    "dv = DictVectorizer(sparse=False)\n",
    "X_full_train = dv.fit_transform(dicts_full_train)\n",
    "\n",
    "#rf = RandomForestClassifier(n_estimators=10, random_state=1, n_jobs=-1)\n",
    "rf = RandomForestClassifier(n_estimators=200,\n",
    "                            max_depth=max_depth,\n",
    "                            min_samples_leaf=min_samples_leaf,\n",
    "                            random_state=1)\n",
    "rf.fit(X_full_train, y_full_train)\n",
    "y_pred = rf.predict_proba(X_test)[:, 1]\n",
    "auc = roc_auc_score(y_test, y_pred)\n",
    "print (f'auc={auc}')\n",
    "\n",
    "# Save the model\n",
    "\n",
    "with open(output_file, 'wb') as f_out:\n",
    "    pickle.dump((dv, rf), f_out)\n",
    "\n",
    "print(f'the model is saved to {output_file}')\n",
    "\n"
   ]
  }
 ],
 "metadata": {
  "kernelspec": {
   "display_name": "Python 3",
   "language": "python",
   "name": "python3"
  },
  "language_info": {
   "codemirror_mode": {
    "name": "ipython",
    "version": 3
   },
   "file_extension": ".py",
   "mimetype": "text/x-python",
   "name": "python",
   "nbconvert_exporter": "python",
   "pygments_lexer": "ipython3",
   "version": "3.12.1"
  }
 },
 "nbformat": 4,
 "nbformat_minor": 2
}
